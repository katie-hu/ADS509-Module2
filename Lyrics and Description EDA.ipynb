{
 "cells": [
  {
   "cell_type": "markdown",
   "id": "7f79baf9",
   "metadata": {},
   "source": [
    "# ADS 509 Assignment 2.1: Tokenization, Normalization, Descriptive Statistics \n",
    "\n",
    "This notebook holds Assignment 2.1 for Module 2 in ADS 509, Applied Text Mining. Work through this notebook, writing code and answering questions where required. \n",
    "\n",
    "In the previous assignment you put together Twitter data and lyrics data on two artists. In this assignment we explore some of the textual features of those data sets. If, for some reason, you did not complete that previous assignment, data to use for this assignment can be found in the assignment materials section of Blackboard. \n",
    "\n",
    "This assignment asks you to write a short function to calculate some descriptive statistics on a piece of text. Then you are asked to find some interesting and unique statistics on your corpora. \n"
   ]
  },
  {
   "cell_type": "markdown",
   "id": "aae8e2e1",
   "metadata": {},
   "source": [
    "## General Assignment Instructions\n",
    "\n",
    "These instructions are included in every assignment, to remind you of the coding standards for the class. Feel free to delete this cell after reading it. \n",
    "\n",
    "One sign of mature code is conforming to a style guide. We recommend the [Google Python Style Guide](https://google.github.io/styleguide/pyguide.html). If you use a different style guide, please include a cell with a link. \n",
    "\n",
    "Your code should be relatively easy-to-read, sensibly commented, and clean. Writing code is a messy process, so please be sure to edit your final submission. Remove any cells that are not needed or parts of cells that contain unnecessary code. Remove inessential `import` statements and make sure that all such statements are moved into the designated cell. \n",
    "\n",
    "Make use of non-code cells for written commentary. These cells should be grammatical and clearly written. In some of these cells you will have questions to answer. The questions will be marked by a \"Q:\" and will have a corresponding \"A:\" spot for you. *Make sure to answer every question marked with a `Q:` for full credit.* \n"
   ]
  },
  {
   "cell_type": "code",
   "execution_count": 1,
   "id": "e2d096b7",
   "metadata": {},
   "outputs": [],
   "source": [
    "import os\n",
    "import re\n",
    "import emoji\n",
    "import pandas as pd\n",
    "import numpy as np\n",
    "\n",
    "from collections import Counter, defaultdict\n",
    "from nltk.corpus import stopwords\n",
    "from string import punctuation\n",
    "\n",
    "sw = stopwords.words(\"english\")"
   ]
  },
  {
   "cell_type": "code",
   "execution_count": 2,
   "id": "6b555ab2",
   "metadata": {},
   "outputs": [
    {
     "name": "stderr",
     "output_type": "stream",
     "text": [
      "[nltk_data] Downloading package stopwords to\n",
      "[nltk_data]     /Users/katiehu/nltk_data...\n",
      "[nltk_data]   Package stopwords is already up-to-date!\n"
     ]
    },
    {
     "data": {
      "text/plain": [
       "True"
      ]
     },
     "execution_count": 2,
     "metadata": {},
     "output_type": "execute_result"
    }
   ],
   "source": [
    "# Add any additional import statements you need here\n",
    "import nltk\n",
    "nltk.download('stopwords')\n",
    "\n"
   ]
  },
  {
   "cell_type": "code",
   "execution_count": 3,
   "id": "923b5a86",
   "metadata": {},
   "outputs": [],
   "source": [
    "# change `data_location` to the location of the folder on your machine.\n",
    "data_location = \"/Users/katiehu/Documents/GitHub/ads-tm-token-norm\"\n",
    "\n",
    "# These subfolders should still work if you correctly stored the \n",
    "# data from the Module 1 assignment\n",
    "twitter_folder = \"twitter/\"\n",
    "lyrics_folder = \"lyrics/\""
   ]
  },
  {
   "cell_type": "code",
   "execution_count": 74,
   "id": "06522af9",
   "metadata": {},
   "outputs": [],
   "source": [
    "def descriptive_stats(tokens, num_tokens = 5, verbose=True) :\n",
    "    \"\"\"\n",
    "        Given a list of tokens, print number of tokens, number of unique tokens, \n",
    "        number of characters, lexical diversity (https://en.wikipedia.org/wiki/Lexical_diversity), \n",
    "        and num_tokens most common tokens. Return a list with the number of tokens, number\n",
    "        of unique tokens, lexical diversity, and number of characters. \n",
    "    \n",
    "    \"\"\"\n",
    "    \n",
    "    # Fill in the correct values here. \n",
    "    num_tokens = len(tokens)\n",
    "    num_unique_tokens = len(Counter(tokens).keys())\n",
    "    lexical_diversity = round((num_unique_tokens/num_tokens),2) # Rounded to 2 Digits to match format of existing decimal rounding below\n",
    "    num_characters = sum(len(i) for i in tokens)\n",
    "    \n",
    "    if verbose :        \n",
    "        print(f\"There are {num_tokens} tokens in the data.\")\n",
    "        print(f\"There are {num_unique_tokens} unique tokens in the data.\")\n",
    "        print(f\"There are {num_characters} characters in the data.\")\n",
    "        print(f\"The lexical diversity is {lexical_diversity:.3f} in the data.\")\n",
    "    \n",
    "        # print the five most common tokens\n",
    "        \n",
    "    return([num_tokens, num_unique_tokens,\n",
    "            lexical_diversity,\n",
    "            num_characters])\n",
    "    "
   ]
  },
  {
   "cell_type": "code",
   "execution_count": 72,
   "id": "59dcf058",
   "metadata": {},
   "outputs": [
    {
     "name": "stdout",
     "output_type": "stream",
     "text": [
      "There are 13 tokens in the data.\n",
      "There are 9 unique tokens in the data.\n",
      "There are 55 characters in the data.\n",
      "The lexical diversity is 0.690 in the data.\n"
     ]
    }
   ],
   "source": [
    "text = \"\"\"here is some example text with other example text here in this text\"\"\".split()\n",
    "assert(descriptive_stats(text, verbose=True)[0] == 13)\n",
    "assert(descriptive_stats(text, verbose=False)[1] == 9)\n",
    "assert(abs(descriptive_stats(text, verbose=False)[2] - 0.69) < 0.02)\n",
    "assert(descriptive_stats(text, verbose=False)[3] == 55)\n"
   ]
  },
  {
   "attachments": {},
   "cell_type": "markdown",
   "id": "d2e7e1a2",
   "metadata": {},
   "source": [
    "Q: Why is it beneficial to use assertion statements in your code? \n",
    "\n",
    "A: Assertion statements are ideal because it allows an extra verification check to ensure that the defined function being executed is performing in the manner that we ask it to. This allows me to ensure that the function is outputting the correct information. "
   ]
  },
  {
   "cell_type": "markdown",
   "id": "9d3bf93e",
   "metadata": {},
   "source": [
    "## Data Input\n",
    "\n",
    "Now read in each of the corpora. For the lyrics data, it may be convenient to store the entire contents of the file to make it easier to inspect the titles individually, as you'll do in the last part of the assignment. In the solution, I stored the lyrics data in a dictionary with two dimensions of keys: artist and song. The value was the file contents. A data frame would work equally well. \n",
    "\n",
    "For the Twitter data, we only need the description field for this assignment. Feel free all the descriptions read it into a data structure. In the solution, I stored the descriptions as a dictionary of lists, with the key being the artist. \n",
    "\n",
    "\n"
   ]
  },
  {
   "cell_type": "code",
   "execution_count": 40,
   "id": "37d70801",
   "metadata": {},
   "outputs": [],
   "source": [
    "# Read in the lyrics data\n",
    "\n",
    "lyrics_path = f\"{data_location}/{lyrics_folder}\"\n",
    "\n",
    "lyrics = defaultdict(dict)\n",
    "for file in os.listdir(lyrics_path):\n",
    "    if os.path.isdir(lyrics_path + file):\n",
    "        for lyric_page in os.listdir(lyrics_path + file):\n",
    "            artist,song = lyric_page.split(\"_\")\n",
    "            song = song.replace(\".txt\", \"\")\n",
    "            lyrics[file][song] = open(lyrics_path + file + \"/\" + lyric_page).read()\n",
    "\n"
   ]
  },
  {
   "cell_type": "code",
   "execution_count": 7,
   "id": "debcac5a",
   "metadata": {},
   "outputs": [],
   "source": [
    "# Read in the twitter data\n",
    "\n",
    "twitter_path = f\"{data_location}/{twitter_folder}\"\n",
    "\n",
    "desc_files = [f for f in os.listdir(twitter_path) if \"followers_data\" in f]\n",
    "\n",
    "twitter = defaultdict(list)\n",
    "\n",
    "for f in desc_files:\n",
    "    artist = f.split(\"_\")[0]\n",
    "    with open(twitter_path + f, 'r', encoding='utf8') as infile:\n",
    "        next(infile)\n",
    "        for idx, line in enumerate(infile.readlines()):\n",
    "            line = line.strip().split(\"\\t\")\n",
    "            if len(line) == 7:\n",
    "                twitter[artist].append(line[6])"
   ]
  },
  {
   "cell_type": "markdown",
   "id": "6a5f3b12",
   "metadata": {},
   "source": [
    "## Data Cleaning\n",
    "\n",
    "Now clean and tokenize your data. Remove punctuation chacters (available in the `punctuation` object in the `string` library), split on whitespace, fold to lowercase, and remove stopwords. Store your cleaned data, which must be accessible as an interable for `descriptive_stats`, in new objects or in new columns in your data frame. \n",
    "\n"
   ]
  },
  {
   "cell_type": "code",
   "execution_count": 8,
   "id": "71c73d86",
   "metadata": {},
   "outputs": [],
   "source": [
    "punctuation = set(punctuation) # speeds up comparison"
   ]
  },
  {
   "attachments": {},
   "cell_type": "markdown",
   "id": "7f9b23a5",
   "metadata": {},
   "source": [
    "Pipeline Creation below did not work. I could not troubleshoot it to work."
   ]
  },
  {
   "cell_type": "code",
   "execution_count": 38,
   "id": "b327033a",
   "metadata": {},
   "outputs": [],
   "source": [
    "# create your clean twitter data here\n",
    "\n",
    "# split on whitespace\n",
    "def tokenize(tokens):\n",
    "    for k, v in tokens.items():\n",
    "        return [i.split() for i in v]\n",
    "\n",
    "# fold to lowercase\n",
    "def lowercase(tokens):\n",
    "    for k, v in tokens.items():\n",
    "        return [i.lower() for i in v]\n",
    "    \n",
    "# remove punctuation\n",
    "def remove_punctuation(tokens):\n",
    "    for k, v in tokens.items():\n",
    "        return [i for i in v if i not in punctuation]\n",
    "\n",
    "# remove stopwords\n",
    "def remove_stopwords(tokens):\n",
    "    for k, v in tokens.items():\n",
    "        return [i for i in v if i.lower() not in sw]\n",
    "\n",
    "def pipeline(tokens):\n",
    "    corpus = tokenize(tokens)\n",
    "    lower = lowercase(corpus)\n",
    "    punct = remove_punctuation(lower)\n",
    "    return remove_stopwords(punct)\n",
    "\n"
   ]
  },
  {
   "cell_type": "code",
   "execution_count": 44,
   "id": "e8be99b3",
   "metadata": {},
   "outputs": [],
   "source": [
    "# create your clean lyrics data here\n",
    "\n",
    "lyrics_processed = defaultdict(list)\n",
    "\n",
    "for artist in lyrics:\n",
    "    for song in lyrics[artist]:\n",
    "        # Remove Punctuation\n",
    "        lyrics_revised = \"\".join([i for i in lyrics[artist][song] if i not in punctuation])\n",
    "        \n",
    "        # Lowercase and Tokenize\n",
    "        lyrics_revised = [file.lower().strip() for file in lyrics_revised.split()]\n",
    "\n",
    "        # Remove Stopwords\n",
    "        lyrics_revised = [file for file in lyrics_revised if file not in sw]\n",
    "\n",
    "        lyrics_processed[artist].extend(lyrics_revised)"
   ]
  },
  {
   "cell_type": "code",
   "execution_count": null,
   "id": "80095a2e",
   "metadata": {},
   "outputs": [],
   "source": [
    "twitter_path = f\"{data_location}/{twitter_folder}\"\n",
    "\n",
    "desc_files = [f for f in os.listdir(twitter_path) if \"followers_data\" in f]\n",
    "\n",
    "twitter = defaultdict(list)\n",
    "\n",
    "for f in desc_files:\n",
    "    artist = f.split(\"_\")[0]\n",
    "    with open(twitter_path + f, 'r', encoding='utf8') as infile:\n",
    "        next(infile)\n",
    "        for idx, line in enumerate(infile.readlines()):\n",
    "            line = line.strip().split(\"\\t\")\n",
    "            if len(line) == 7:\n",
    "                twitter[artist].append(line[6])"
   ]
  },
  {
   "cell_type": "code",
   "execution_count": 45,
   "id": "2818827d",
   "metadata": {},
   "outputs": [],
   "source": [
    "# create your clean twitter data here\n",
    "\n",
    "twitter_processed = defaultdict(list)\n",
    "\n",
    "for artist in twitter:\n",
    "\n",
    "    desc = \" \".join(twitter[artist])\n",
    "\n",
    "    # Remove Punctuation\n",
    "    desc = \"\".join([i for i in desc if i not in punctuation])\n",
    "        \n",
    "    # Lowercase and Tokenize\n",
    "    desc = [file.lower().strip() for file in desc.split()]\n",
    "\n",
    "    # Remove Stopwords\n",
    "    desc = [file for file in desc if file not in sw]\n",
    "\n",
    "    twitter_processed[artist].extend(desc)"
   ]
  },
  {
   "cell_type": "markdown",
   "id": "f2dd0179",
   "metadata": {},
   "source": [
    "## Basic Descriptive Statistics\n",
    "\n",
    "Call your `descriptive_stats` function on both your lyrics data and your twitter data and for both artists (four total calls). "
   ]
  },
  {
   "cell_type": "code",
   "execution_count": 75,
   "id": "f0bbedd9",
   "metadata": {},
   "outputs": [
    {
     "name": "stdout",
     "output_type": "stream",
     "text": [
      "Descriptive Statistics for Robyn's Lyrics\n",
      "\n",
      "There are 15227 tokens in the data.\n",
      "There are 2156 unique tokens in the data.\n",
      "There are 73787 characters in the data.\n",
      "The lexical diversity is 0.140 in the data.\n",
      "\n",
      "Descriptive Statistics for Robyn's Twitter\n",
      "\n",
      "There are 1495526 tokens in the data.\n",
      "There are 252736 unique tokens in the data.\n",
      "There are 9127817 characters in the data.\n",
      "The lexical diversity is 0.170 in the data.\n",
      "\n",
      "Descriptive Statistics for Cher's Twitter\n",
      "\n",
      "There are 35916 tokens in the data.\n",
      "There are 3703 unique tokens in the data.\n",
      "There are 172634 characters in the data.\n",
      "The lexical diversity is 0.100 in the data.\n",
      "\n",
      "Descriptive Statistics for Cher's Twitter\n",
      "\n",
      "There are 15670504 tokens in the data.\n",
      "There are 1517718 unique tokens in the data.\n",
      "There are 92951718 characters in the data.\n",
      "The lexical diversity is 0.100 in the data.\n"
     ]
    },
    {
     "data": {
      "text/plain": [
       "[15670504, 1517718, 0.1, 92951718]"
      ]
     },
     "execution_count": 75,
     "metadata": {},
     "output_type": "execute_result"
    }
   ],
   "source": [
    "# calls to descriptive_stats here\n",
    "print('''Descriptive Statistics for Robyn's Lyrics''')\n",
    "print('')\n",
    "descriptive_stats(lyrics_processed['robyn'], num_tokens = 10)\n",
    "print('')\n",
    "print('''Descriptive Statistics for Robyn's Twitter''')\n",
    "print('')\n",
    "descriptive_stats(twitter_processed['robynkonichiwa'], num_tokens = 10)\n",
    "print('')\n",
    "print('''Descriptive Statistics for Cher's Twitter''')\n",
    "print('')\n",
    "descriptive_stats(lyrics_processed['cher'], num_tokens = 10)\n",
    "print('')\n",
    "print('''Descriptive Statistics for Cher's Twitter''')\n",
    "print('')\n",
    "descriptive_stats(twitter_processed['cher'], num_tokens = 10)"
   ]
  },
  {
   "attachments": {},
   "cell_type": "markdown",
   "id": "46294409",
   "metadata": {},
   "source": [
    "Q: How do you think the \"top 5 words\" would be different if we left stopwords in the data? \n",
    "\n",
    "A: I believe that if the stopwords were left in the data, the top 5 words would be mostly stopwords such as the, and, as stopwords are common to be filled in with sentences.\n",
    "\n",
    "---\n",
    "\n",
    "Q: What were your prior beliefs about the lexical diversity between the artists? Does the difference (or lack thereof) in lexical diversity between the artists conform to your prior beliefs? \n",
    "\n",
    "A: Both artists seem to be more similar as both sing about love.\n"
   ]
  },
  {
   "cell_type": "markdown",
   "id": "4d4e1ac1",
   "metadata": {},
   "source": [
    "\n",
    "## Specialty Statistics\n",
    "\n",
    "The descriptive statistics we have calculated are quite generic. You will now calculate a handful of statistics tailored to these data.\n",
    "\n",
    "1. Ten most common emojis by artist in the twitter descriptions.\n",
    "1. Ten most common hashtags by artist in the twitter descriptions.\n",
    "1. Five most common words in song titles by artist. \n",
    "1. For each artist, a histogram of song lengths (in terms of number of tokens) \n",
    "\n",
    "We can use the `emoji` library to help us identify emojis and you have been given a function to help you.\n"
   ]
  },
  {
   "cell_type": "code",
   "execution_count": 50,
   "id": "753a5a3e",
   "metadata": {},
   "outputs": [],
   "source": [
    "assert(emoji.is_emoji(\"❤️\"))\n",
    "assert(not emoji.is_emoji(\":-)\"))"
   ]
  },
  {
   "cell_type": "markdown",
   "id": "986fc4c0",
   "metadata": {},
   "source": [
    "### Emojis 😁\n",
    "\n",
    "What are the ten most common emojis by artist in the twitter descriptions? \n"
   ]
  },
  {
   "cell_type": "code",
   "execution_count": 51,
   "id": "269cd433",
   "metadata": {},
   "outputs": [
    {
     "name": "stdout",
     "output_type": "stream",
     "text": [
      "cher\n",
      "[('❤', 79223), ('🌈', 47549), ('♥', 33978), ('🏳', 33412), ('✨', 29468), ('💙', 21379), ('🏻', 20930), ('🌊', 20223), ('✌', 16773), ('💜', 16550)]\n",
      "robynkonichiwa\n",
      "[('❤', 4783), ('🌈', 4685), ('🏳', 3528), ('♥', 3103), ('✨', 2223), ('🏻', 1495), ('✌', 1189), ('🏼', 1139), ('♀', 836), ('💙', 809)]\n"
     ]
    }
   ],
   "source": [
    "emojis = defaultdict(list)\n",
    "\n",
    "for artist in twitter:\n",
    "    for desc in twitter[artist]:\n",
    "        emojis[artist].extend([i for i in desc if emoji.is_emoji(i)])\n",
    "\n",
    "for artist in emojis:\n",
    "    print(artist)\n",
    "    print(Counter(emojis[artist]).most_common(10))"
   ]
  },
  {
   "cell_type": "markdown",
   "id": "bab9b770",
   "metadata": {},
   "source": [
    "### Hashtags\n",
    "\n",
    "What are the ten most common hashtags by artist in the twitter descriptions? \n"
   ]
  },
  {
   "cell_type": "code",
   "execution_count": 55,
   "id": "07c396f1",
   "metadata": {},
   "outputs": [
    {
     "name": "stdout",
     "output_type": "stream",
     "text": [
      "cher\n",
      "[('and', 565427), ('i', 436327), ('a', 416133), ('the', 401094), ('to', 347286), ('of', 325564), ('my', 278188), ('in', 225889), ('love', 198887), ('is', 188702)]\n",
      "robynkonichiwa\n",
      "[('and', 44386), ('the', 34224), ('i', 34046), ('a', 30302), ('of', 25780), ('to', 22378), ('in', 20833), ('my', 19064), ('&', 17131), ('|', 15556)]\n"
     ]
    }
   ],
   "source": [
    "hashtags = defaultdict(list)\n",
    "\n",
    "for artist in twitter:\n",
    "    for desc in twitter[artist]:\n",
    "        hashtags[artist].extend([file.lower() for file in desc.split()])\n",
    "\n",
    "for artist in hashtags:\n",
    "    print(artist)\n",
    "    print(Counter(hashtags[artist]).most_common(10))"
   ]
  },
  {
   "cell_type": "markdown",
   "id": "d10f21d5",
   "metadata": {},
   "source": [
    "### Song Titles\n",
    "\n",
    "What are the five most common words in song titles by artist? The song titles should be on the first line of the lyrics pages, so if you have kept the raw file contents around, you will not need to re-read the data.\n"
   ]
  },
  {
   "cell_type": "code",
   "execution_count": 59,
   "id": "bb69b36b",
   "metadata": {},
   "outputs": [
    {
     "name": "stdout",
     "output_type": "stream",
     "text": [
      "robyn\n",
      "[('me', 7), ('you', 7), ('the', 7), ('my', 6), ('to', 6)]\n",
      "cher\n",
      "[('the', 29), ('to', 28), ('\"the', 24), ('of', 21), ('\"i', 21)]\n"
     ]
    }
   ],
   "source": [
    "title = defaultdict(list)\n",
    "\n",
    "for artist in lyrics:\n",
    "    for song, page in lyrics[artist].items():\n",
    "        page = page.split(\"\\n\")\n",
    "        title[artist].extend([item.lower() for item in page[0].split()])\n",
    "\n",
    "for artist in title:\n",
    "    print(artist)\n",
    "    print(Counter(title[artist]).most_common(5))"
   ]
  },
  {
   "cell_type": "markdown",
   "id": "5dd4fd71",
   "metadata": {},
   "source": [
    "### Song Lengths\n",
    "\n",
    "For each artist, a histogram of song lengths (in terms of number of tokens). If you put the song lengths in a data frame with an artist column, matplotlib will make the plotting quite easy. An example is given to help you out. \n"
   ]
  },
  {
   "cell_type": "code",
   "execution_count": 60,
   "id": "805a1e52",
   "metadata": {},
   "outputs": [
    {
     "data": {
      "text/plain": [
       "artist\n",
       "Artist 1    AxesSubplot(0.125,0.125;0.775x0.755)\n",
       "Artist 2    AxesSubplot(0.125,0.125;0.775x0.755)\n",
       "Name: length, dtype: object"
      ]
     },
     "execution_count": 60,
     "metadata": {},
     "output_type": "execute_result"
    },
    {
     "data": {
      "image/png": "[encoded data removed]",
      "text/plain": [
       "<Figure size 432x288 with 1 Axes>"
      ]
     },
     "metadata": {
      "needs_background": "light"
     },
     "output_type": "display_data"
    }
   ],
   "source": [
    "num_replicates = 1000\n",
    "\n",
    "df = pd.DataFrame({\n",
    "    \"artist\" : ['Artist 1'] * num_replicates + ['Artist 2']*num_replicates,\n",
    "    \"length\" : np.concatenate((np.random.poisson(125,num_replicates),np.random.poisson(150,num_replicates)))\n",
    "})\n",
    "\n",
    "df.groupby('artist')['length'].plot(kind=\"hist\",density=True,alpha=0.5,legend=True)"
   ]
  },
  {
   "cell_type": "code",
   "execution_count": 61,
   "id": "0e17ccfc",
   "metadata": {},
   "outputs": [
    {
     "data": {
      "text/html": [
       "<div>\n",
       "<style scoped>\n",
       "    .dataframe tbody tr th:only-of-type {\n",
       "        vertical-align: middle;\n",
       "    }\n",
       "\n",
       "    .dataframe tbody tr th {\n",
       "        vertical-align: top;\n",
       "    }\n",
       "\n",
       "    .dataframe thead th {\n",
       "        text-align: right;\n",
       "    }\n",
       "</style>\n",
       "<table border=\"1\" class=\"dataframe\">\n",
       "  <thead>\n",
       "    <tr style=\"text-align: right;\">\n",
       "      <th></th>\n",
       "      <th>artist</th>\n",
       "      <th>song</th>\n",
       "      <th>lyrics</th>\n",
       "    </tr>\n",
       "  </thead>\n",
       "  <tbody>\n",
       "    <tr>\n",
       "      <th>0</th>\n",
       "      <td>robyn</td>\n",
       "      <td>includemeout</td>\n",
       "      <td>\"Include Me Out\"\\n\\n\\n\\nIt is really very simp...</td>\n",
       "    </tr>\n",
       "    <tr>\n",
       "      <th>1</th>\n",
       "      <td>robyn</td>\n",
       "      <td>electric</td>\n",
       "      <td>\"Electric\"\\n\\n\\n\\nElectric...\\n\\nIt's electric...</td>\n",
       "    </tr>\n",
       "    <tr>\n",
       "      <th>2</th>\n",
       "      <td>robyn</td>\n",
       "      <td>beach2k20</td>\n",
       "      <td>\"Beach 2K20\"\\n\\n\\n\\n(So you wanna go out?\\nHow...</td>\n",
       "    </tr>\n",
       "    <tr>\n",
       "      <th>3</th>\n",
       "      <td>robyn</td>\n",
       "      <td>lovekills</td>\n",
       "      <td>\"Love Kills\"\\n\\n\\n\\nIf you're looking for love...</td>\n",
       "    </tr>\n",
       "    <tr>\n",
       "      <th>4</th>\n",
       "      <td>robyn</td>\n",
       "      <td>timemachine</td>\n",
       "      <td>\"Time Machine\"\\n\\n\\n\\nHey, what did I do?\\nCan...</td>\n",
       "    </tr>\n",
       "  </tbody>\n",
       "</table>\n",
       "</div>"
      ],
      "text/plain": [
       "  artist          song                                             lyrics\n",
       "0  robyn  includemeout  \"Include Me Out\"\\n\\n\\n\\nIt is really very simp...\n",
       "1  robyn      electric  \"Electric\"\\n\\n\\n\\nElectric...\\n\\nIt's electric...\n",
       "2  robyn     beach2k20  \"Beach 2K20\"\\n\\n\\n\\n(So you wanna go out?\\nHow...\n",
       "3  robyn     lovekills  \"Love Kills\"\\n\\n\\n\\nIf you're looking for love...\n",
       "4  robyn   timemachine  \"Time Machine\"\\n\\n\\n\\nHey, what did I do?\\nCan..."
      ]
     },
     "execution_count": 61,
     "metadata": {},
     "output_type": "execute_result"
    }
   ],
   "source": [
    "artist_list = []\n",
    "song_list = []\n",
    "lyrics_list = []\n",
    "\n",
    "for artist in lyrics:\n",
    "    for song, lyric in lyrics[artist].items():\n",
    "        artist_list.append(artist)\n",
    "        song_list.append(song)\n",
    "        lyrics_list.append(lyric)\n",
    "\n",
    "lyrics_df = pd.DataFrame()\n",
    "lyrics_df['artist'] = artist_list\n",
    "lyrics_df['song'] = song_list\n",
    "lyrics_df['lyrics'] = lyrics_list\n",
    "\n",
    "lyrics_df.head()"
   ]
  },
  {
   "attachments": {},
   "cell_type": "markdown",
   "id": "8fde9ebb",
   "metadata": {},
   "source": [
    "Since the lyrics may be stored with carriage returns or tabs, it may be useful to have a function that can collapse whitespace, using regular expressions, and be used for splitting. \n",
    "\n",
    "Q: What does the regular expression `'\\s+'` match on? \n",
    "\n",
    "A: This is to match for single whitespace characters.\n"
   ]
  },
  {
   "cell_type": "code",
   "execution_count": 62,
   "id": "f0e34516",
   "metadata": {},
   "outputs": [],
   "source": [
    "collapse_whitespace = re.compile(r'\\s+')\n",
    "\n",
    "def tokenize_lyrics(lyric) : \n",
    "    \"\"\"strip and split on whitespace\"\"\"\n",
    "    return([item.lower() for item in collapse_whitespace.split(lyric)])"
   ]
  },
  {
   "cell_type": "code",
   "execution_count": 63,
   "id": "2294c440",
   "metadata": {},
   "outputs": [
    {
     "data": {
      "text/plain": [
       "artist\n",
       "cher     AxesSubplot(0.125,0.125;0.775x0.755)\n",
       "robyn    AxesSubplot(0.125,0.125;0.775x0.755)\n",
       "Name: lyric_len, dtype: object"
      ]
     },
     "execution_count": 63,
     "metadata": {},
     "output_type": "execute_result"
    },
    {
     "data": {
      "image/png": "[encoded data removed]",
      "text/plain": [
       "<Figure size 432x288 with 1 Axes>"
      ]
     },
     "metadata": {
      "needs_background": "light"
     },
     "output_type": "display_data"
    }
   ],
   "source": [
    "lyrics_df['lyric_token'] = lyrics_df['lyrics'].apply(tokenize_lyrics)\n",
    "lyrics_df['lyric_len'] = lyrics_df['lyric_token'].apply(len)\n",
    "\n",
    "lyrics_df.groupby('artist')['lyric_len'].plot(kind = 'hist', density = True)"
   ]
  },
  {
   "cell_type": "code",
   "execution_count": null,
   "id": "edc59aaf",
   "metadata": {},
   "outputs": [],
   "source": []
  }
 ],
 "metadata": {
  "kernelspec": {
   "display_name": "Python 3 (ipykernel)",
   "language": "python",
   "name": "python3"
  },
  "language_info": {
   "codemirror_mode": {
    "name": "ipython",
    "version": 3
   },
   "file_extension": ".py",
   "mimetype": "text/x-python",
   "name": "python",
   "nbconvert_exporter": "python",
   "pygments_lexer": "ipython3",
   "version": "3.9.2"
  }
 },
 "nbformat": 4,
 "nbformat_minor": 5
}
